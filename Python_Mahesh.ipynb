{
  "nbformat": 4,
  "nbformat_minor": 0,
  "metadata": {
    "colab": {
      "provenance": [],
      "authorship_tag": "ABX9TyMwE/kCS94jX+uNh48pX7hP",
      "include_colab_link": true
    },
    "kernelspec": {
      "name": "python3",
      "display_name": "Python 3"
    },
    "language_info": {
      "name": "python"
    }
  },
  "cells": [
    {
      "cell_type": "markdown",
      "metadata": {
        "id": "view-in-github",
        "colab_type": "text"
      },
      "source": [
        "<a href=\"https://colab.research.google.com/github/Mahesh-Karande/python_notes/blob/main/Python_Mahesh.ipynb\" target=\"_parent\"><img src=\"https://colab.research.google.com/assets/colab-badge.svg\" alt=\"Open In Colab\"/></a>"
      ]
    },
    {
      "cell_type": "code",
      "execution_count": 1,
      "metadata": {
        "colab": {
          "base_uri": "https://localhost:8080/"
        },
        "id": "H0ETS92yr1am",
        "outputId": "69250926-4624-49c8-d814-d879d33bb44d"
      },
      "outputs": [
        {
          "output_type": "stream",
          "name": "stdout",
          "text": [
            "(10,)\n",
            "<class 'tuple'>\n",
            "10\n",
            "<class 'int'>\n"
          ]
        }
      ],
      "source": [
        "# Creating a single-element tuple\n",
        "t = (10, ) # Comma is important here\n",
        "print(t)  # Output: (10,)\n",
        "print(type(t))\n",
        "\n",
        "# What if we do not use comma\n",
        "t = (10) # This an integer (not a tuple)\n",
        "print(t)\n",
        "print(type(t))"
      ]
    }
  ]
}